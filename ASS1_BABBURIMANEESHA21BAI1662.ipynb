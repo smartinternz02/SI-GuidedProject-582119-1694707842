{
 "cells": [
  {
   "cell_type": "markdown",
   "metadata": {
    "id": "EzZJEoYwn4NB"
   },
   "source": [
    "NAME:BABBURI MANEESHA\n"
   ]
  },
  {
   "cell_type": "markdown",
   "metadata": {
    "id": "KooMkAS2obqe"
   },
   "source": [
    "REG NO:21BAI1662\n"
   ]
  },
  {
   "cell_type": "markdown",
   "metadata": {
    "id": "1-43UTmuodwZ"
   },
   "source": [
    "COLLEGE: VIT Chennai campus\n",
    "\n"
   ]
  },
  {
   "cell_type": "markdown",
   "metadata": {
    "id": "GCeLie2sog-k"
   },
   "source": [
    "mail id: babburi.maneesha2021@vitstudent.ac.in"
   ]
  },
  {
   "cell_type": "code",
   "execution_count": 2,
   "metadata": {
    "colab": {
     "base_uri": "https://localhost:8080/",
     "height": 363
    },
    "id": "ylz_FjPboVsB",
    "outputId": "8dc33898-ae48-450e-d894-c1c9a9c5497c"
   },
   "outputs": [
    {
     "data": {
      "text/html": [
       "<div>\n",
       "<style scoped>\n",
       "    .dataframe tbody tr th:only-of-type {\n",
       "        vertical-align: middle;\n",
       "    }\n",
       "\n",
       "    .dataframe tbody tr th {\n",
       "        vertical-align: top;\n",
       "    }\n",
       "\n",
       "    .dataframe thead th {\n",
       "        text-align: right;\n",
       "    }\n",
       "</style>\n",
       "<table border=\"1\" class=\"dataframe\">\n",
       "  <thead>\n",
       "    <tr style=\"text-align: right;\">\n",
       "      <th></th>\n",
       "      <th>name</th>\n",
       "      <th>bank</th>\n",
       "      <th>age</th>\n",
       "      <th>gender</th>\n",
       "      <th>salary</th>\n",
       "    </tr>\n",
       "  </thead>\n",
       "  <tbody>\n",
       "    <tr>\n",
       "      <th>0</th>\n",
       "      <td>Maneesha</td>\n",
       "      <td>sbi</td>\n",
       "      <td>22</td>\n",
       "      <td>m</td>\n",
       "      <td>35000.0</td>\n",
       "    </tr>\n",
       "    <tr>\n",
       "      <th>1</th>\n",
       "      <td>Mamatha</td>\n",
       "      <td>union</td>\n",
       "      <td>30</td>\n",
       "      <td>f</td>\n",
       "      <td>45000.0</td>\n",
       "    </tr>\n",
       "    <tr>\n",
       "      <th>2</th>\n",
       "      <td>vandu</td>\n",
       "      <td>icici</td>\n",
       "      <td>35</td>\n",
       "      <td>f</td>\n",
       "      <td>85000.0</td>\n",
       "    </tr>\n",
       "    <tr>\n",
       "      <th>3</th>\n",
       "      <td>rani</td>\n",
       "      <td>andhra</td>\n",
       "      <td>32</td>\n",
       "      <td>f</td>\n",
       "      <td>30000.0</td>\n",
       "    </tr>\n",
       "    <tr>\n",
       "      <th>4</th>\n",
       "      <td>vamsi</td>\n",
       "      <td>hdfc</td>\n",
       "      <td>28</td>\n",
       "      <td>m</td>\n",
       "      <td>40000.0</td>\n",
       "    </tr>\n",
       "    <tr>\n",
       "      <th>5</th>\n",
       "      <td>yash</td>\n",
       "      <td>sbi</td>\n",
       "      <td>26</td>\n",
       "      <td>m</td>\n",
       "      <td>60000.0</td>\n",
       "    </tr>\n",
       "    <tr>\n",
       "      <th>6</th>\n",
       "      <td>srikar</td>\n",
       "      <td>union</td>\n",
       "      <td>24</td>\n",
       "      <td>m</td>\n",
       "      <td>NaN</td>\n",
       "    </tr>\n",
       "    <tr>\n",
       "      <th>7</th>\n",
       "      <td>avinash</td>\n",
       "      <td>icici</td>\n",
       "      <td>29</td>\n",
       "      <td>m</td>\n",
       "      <td>45000.0</td>\n",
       "    </tr>\n",
       "    <tr>\n",
       "      <th>8</th>\n",
       "      <td>gouri</td>\n",
       "      <td>sbi</td>\n",
       "      <td>34</td>\n",
       "      <td>m</td>\n",
       "      <td>20000.0</td>\n",
       "    </tr>\n",
       "    <tr>\n",
       "      <th>9</th>\n",
       "      <td>giri</td>\n",
       "      <td>union</td>\n",
       "      <td>38</td>\n",
       "      <td>m</td>\n",
       "      <td>60000.0</td>\n",
       "    </tr>\n",
       "  </tbody>\n",
       "</table>\n",
       "</div>"
      ],
      "text/plain": [
       "       name    bank  age gender   salary\n",
       "0  Maneesha     sbi   22      m  35000.0\n",
       "1   Mamatha   union   30      f  45000.0\n",
       "2     vandu   icici   35      f  85000.0\n",
       "3      rani  andhra   32      f  30000.0\n",
       "4     vamsi    hdfc   28      m  40000.0\n",
       "5      yash     sbi   26      m  60000.0\n",
       "6    srikar   union   24      m      NaN\n",
       "7   avinash   icici   29      m  45000.0\n",
       "8     gouri     sbi   34      m  20000.0\n",
       "9      giri   union   38      m  60000.0"
      ]
     },
     "execution_count": 2,
     "metadata": {},
     "output_type": "execute_result"
    }
   ],
   "source": [
    "#task-1: create a pandas dataframe(name as 'df')(10 obseravtions and 5 features)\n",
    "\n",
    "import pandas as pd\n",
    "import numpy as np\n",
    "d={'name':['Maneesha','Mamatha','vandu','rani','vamsi','yash','srikar','avinash','gouri','giri'],\n",
    "   'bank':['sbi','union','icici','andhra','hdfc','sbi','union','icici','sbi','union'],\n",
    "   'age':[22,30,35,32,28,26,24,29,34,38],\n",
    "   'gender':['m','f','f','f','m','m','m','m','m','m'],\n",
    "   'salary':[35000,45000,85000,30000,40000,60000,np.nan,45000,20000,60000]}\n",
    "df=pd.DataFrame(d)\n",
    "df"
   ]
  },
  {
   "cell_type": "code",
   "execution_count": 3,
   "metadata": {
    "colab": {
     "base_uri": "https://localhost:8080/"
    },
    "id": "v35I6YuxrkYw",
    "outputId": "d9be8671-eaa8-449a-b078-35354cb58297"
   },
   "outputs": [
    {
     "name": "stdout",
     "output_type": "stream",
     "text": [
      "<class 'pandas.core.frame.DataFrame'>\n",
      "RangeIndex: 10 entries, 0 to 9\n",
      "Data columns (total 5 columns):\n",
      " #   Column  Non-Null Count  Dtype  \n",
      "---  ------  --------------  -----  \n",
      " 0   name    10 non-null     object \n",
      " 1   bank    10 non-null     object \n",
      " 2   age     10 non-null     int64  \n",
      " 3   gender  10 non-null     object \n",
      " 4   salary  9 non-null      float64\n",
      "dtypes: float64(1), int64(1), object(3)\n",
      "memory usage: 528.0+ bytes\n"
     ]
    }
   ],
   "source": [
    "#task-2:check the info of 'df'\n",
    "df.info()"
   ]
  },
  {
   "cell_type": "code",
   "execution_count": 4,
   "metadata": {
    "colab": {
     "base_uri": "https://localhost:8080/",
     "height": 300
    },
    "id": "-Sb065KPtP1d",
    "outputId": "e6436532-3473-4c19-bbcf-d4b38234d31c"
   },
   "outputs": [
    {
     "data": {
      "text/html": [
       "<div>\n",
       "<style scoped>\n",
       "    .dataframe tbody tr th:only-of-type {\n",
       "        vertical-align: middle;\n",
       "    }\n",
       "\n",
       "    .dataframe tbody tr th {\n",
       "        vertical-align: top;\n",
       "    }\n",
       "\n",
       "    .dataframe thead th {\n",
       "        text-align: right;\n",
       "    }\n",
       "</style>\n",
       "<table border=\"1\" class=\"dataframe\">\n",
       "  <thead>\n",
       "    <tr style=\"text-align: right;\">\n",
       "      <th></th>\n",
       "      <th>age</th>\n",
       "      <th>salary</th>\n",
       "    </tr>\n",
       "  </thead>\n",
       "  <tbody>\n",
       "    <tr>\n",
       "      <th>count</th>\n",
       "      <td>10.000000</td>\n",
       "      <td>9.000000</td>\n",
       "    </tr>\n",
       "    <tr>\n",
       "      <th>mean</th>\n",
       "      <td>29.800000</td>\n",
       "      <td>46666.666667</td>\n",
       "    </tr>\n",
       "    <tr>\n",
       "      <th>std</th>\n",
       "      <td>5.050853</td>\n",
       "      <td>19364.916731</td>\n",
       "    </tr>\n",
       "    <tr>\n",
       "      <th>min</th>\n",
       "      <td>22.000000</td>\n",
       "      <td>20000.000000</td>\n",
       "    </tr>\n",
       "    <tr>\n",
       "      <th>25%</th>\n",
       "      <td>26.500000</td>\n",
       "      <td>35000.000000</td>\n",
       "    </tr>\n",
       "    <tr>\n",
       "      <th>50%</th>\n",
       "      <td>29.500000</td>\n",
       "      <td>45000.000000</td>\n",
       "    </tr>\n",
       "    <tr>\n",
       "      <th>75%</th>\n",
       "      <td>33.500000</td>\n",
       "      <td>60000.000000</td>\n",
       "    </tr>\n",
       "    <tr>\n",
       "      <th>max</th>\n",
       "      <td>38.000000</td>\n",
       "      <td>85000.000000</td>\n",
       "    </tr>\n",
       "  </tbody>\n",
       "</table>\n",
       "</div>"
      ],
      "text/plain": [
       "             age        salary\n",
       "count  10.000000      9.000000\n",
       "mean   29.800000  46666.666667\n",
       "std     5.050853  19364.916731\n",
       "min    22.000000  20000.000000\n",
       "25%    26.500000  35000.000000\n",
       "50%    29.500000  45000.000000\n",
       "75%    33.500000  60000.000000\n",
       "max    38.000000  85000.000000"
      ]
     },
     "execution_count": 4,
     "metadata": {},
     "output_type": "execute_result"
    }
   ],
   "source": [
    "#task-3:check the descriptive statistics of 'df'\n",
    "df.describe()"
   ]
  },
  {
   "cell_type": "code",
   "execution_count": 5,
   "metadata": {
    "colab": {
     "base_uri": "https://localhost:8080/"
    },
    "id": "TxWjMxBntiMM",
    "outputId": "4f7f07c9-d976-4484-8e3c-dcd7dbc1f87b"
   },
   "outputs": [
    {
     "data": {
      "text/plain": [
       "name        vamsi\n",
       "bank         hdfc\n",
       "age            28\n",
       "gender          m\n",
       "salary    40000.0\n",
       "Name: 4, dtype: object"
      ]
     },
     "execution_count": 5,
     "metadata": {},
     "output_type": "execute_result"
    }
   ],
   "source": [
    "#task-4: check the 4th index observation with 'loc' slicing operator\n",
    "df.iloc[4]"
   ]
  },
  {
   "cell_type": "code",
   "execution_count": 6,
   "metadata": {
    "colab": {
     "base_uri": "https://localhost:8080/"
    },
    "id": "vv0mpPhpt-xU",
    "outputId": "b38cb0e0-416f-4682-be15-cc9256184d0a"
   },
   "outputs": [
    {
     "data": {
      "text/plain": [
       "name      False\n",
       "bank      False\n",
       "age       False\n",
       "gender    False\n",
       "salary     True\n",
       "dtype: bool"
      ]
     },
     "execution_count": 6,
     "metadata": {},
     "output_type": "execute_result"
    }
   ],
   "source": [
    "#task-5: check the null values in your 'df'\n",
    "df.isnull().any()"
   ]
  },
  {
   "cell_type": "code",
   "execution_count": 7,
   "metadata": {
    "colab": {
     "base_uri": "https://localhost:8080/"
    },
    "id": "KTMLx9zKuWb1",
    "outputId": "376b23aa-5b69-4499-89e8-bd5366ffe715"
   },
   "outputs": [
    {
     "data": {
      "text/plain": [
       "name      0\n",
       "bank      0\n",
       "age       0\n",
       "gender    0\n",
       "salary    1\n",
       "dtype: int64"
      ]
     },
     "execution_count": 7,
     "metadata": {},
     "output_type": "execute_result"
    }
   ],
   "source": [
    "df.isnull().sum()"
   ]
  },
  {
   "cell_type": "code",
   "execution_count": null,
   "metadata": {
    "id": "cl8ujtq8uabu"
   },
   "outputs": [],
   "source": []
  }
 ],
 "metadata": {
  "colab": {
   "provenance": []
  },
  "kernelspec": {
   "display_name": "Python 3",
   "language": "python",
   "name": "python3"
  },
  "language_info": {
   "codemirror_mode": {
    "name": "ipython",
    "version": 3
   },
   "file_extension": ".py",
   "mimetype": "text/x-python",
   "name": "python",
   "nbconvert_exporter": "python",
   "pygments_lexer": "ipython3",
   "version": "3.8.8"
  }
 },
 "nbformat": 4,
 "nbformat_minor": 1
}
